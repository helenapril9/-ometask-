{
 "cells": [
  {
   "cell_type": "code",
   "execution_count": 2,
   "metadata": {},
   "outputs": [],
   "source": [
    "#Класс Студенты\n",
    "class Student:\n",
    "    def __init__(self, name, surname, gender):          \n",
    "        self.name = name\n",
    "        self.surname = surname\n",
    "        self.gender = gender\n",
    "        self.finished_courses = []\n",
    "        self.courses_in_progress = []\n",
    "        self.grades = {}  \n",
    "      \n",
    "    def add_courses(self, course_name):\n",
    "        self.finished_course.append(course_name) \n",
    "    \n",
    "    def __str__(self):\n",
    "        rez1 = f'Имя: {self.name}\\nФамилия: {self.surname}'\n",
    "        return rez1  \n",
    "\n",
    "    def student_grade_mean(self):\n",
    "        a = 0\n",
    "        number = 0\n",
    "        for course in self.courses_in_progress:\n",
    "            a += sum(self.grades[course])\n",
    "            number += len(self.grades[course])            \n",
    "        print(f'Средняя оценка за лекции студента {self.name} {self.surname}:{round(a/number,1)}') \n",
    "        return (round(a/number,1))        \n",
    "\n",
    "    def in_finished(self):\n",
    "        print('Завершенные курсы:', end='' )\n",
    "        print(*self.finished_courses, sep=', ')   \n",
    "      \n",
    "    def in_progress(self):\n",
    "        print('Курсы в процессе изучения:', end='')\n",
    "        print(*self.courses_in_progress, sep=', ')\n",
    "\n",
    "    def rate_hw(self, lecturer, course, grade):\n",
    "        if isinstance(lecturer, Lecturer) and course in self.courses_attached and course in lecturer.courses_attached:\n",
    "            if course in lecturer.grades:\n",
    "                lecturer.grades[course] += [grade]\n",
    "            else:\n",
    "                lecturer.grades[course] = [grade]\n",
    "        else:\n",
    "            return 'Ошибка'  \n",
    "\n",
    "    def __lt__(self, other):\n",
    "        return self.student_grade_mean() < other.student_grade_mean()                                       "
   ]
  },
  {
   "cell_type": "code",
   "execution_count": 3,
   "metadata": {},
   "outputs": [
    {
     "name": "stdout",
     "output_type": "stream",
     "text": [
      "Имя: Ruoy\n",
      "Фамилия: Eman\n",
      "Средняя оценка за лекции студента Ruoy Eman:7.4\n",
      "Курсы в процессе изучения:Python, Git\n",
      "Завершенные курсы:Git\n",
      "Имя: Tom\n",
      "Фамилия: White\n",
      "Средняя оценка за лекции студента Tom White:6.4\n",
      "Курсы в процессе изучения:Python, Git\n",
      "Завершенные курсы:Git\n",
      "Средняя оценка за лекции студента Ruoy Eman:7.4\n",
      "Средняя оценка за лекции студента Tom White:6.4\n",
      "False\n"
     ]
    }
   ],
   "source": [
    "student1 = Student('Ruoy', 'Eman', 'your_gender')\n",
    "student2 = Student('Tom', 'White', 'your_gender')\n",
    "student1.finished_courses = ['Git']\n",
    "student2.finished_courses = ['Git']\n",
    "student1.courses_in_progress = ['Python','Git']\n",
    "student2.courses_in_progress = ['Python','Git']\n",
    "student1.grades['Git'] = [10, 10, 6, 1, 10]\n",
    "student1.grades['Python'] = [9, 6]\n",
    "student2.grades['Git'] = [9, 2, 8, 3, 5]\n",
    "student2.grades['Python'] = [8, 10]\n",
    "print(student1)\n",
    "student1.student_grade_mean()\n",
    "student1.in_progress()\n",
    "student1.in_finished()   \n",
    "print(student2)\n",
    "student2.student_grade_mean()\n",
    "student2.in_progress()\n",
    "student2.in_finished()   \n",
    "print(student1 < student2)"
   ]
  },
  {
   "cell_type": "code",
   "execution_count": 13,
   "metadata": {},
   "outputs": [],
   "source": [
    "#Класс Менторы\n",
    "class Mentor:\n",
    "    def __init__(self, name, surname):\n",
    "        self.name = name\n",
    "        self.surname = surname\n",
    "        self.courses_attached = []"
   ]
  },
  {
   "cell_type": "code",
   "execution_count": 14,
   "metadata": {},
   "outputs": [],
   "source": [
    "#Класс Проверяющие\n",
    "class Reviewer(Mentor):\n",
    "    def rate_hw(self, student, course, grade):\n",
    "        if isinstance(student, Student) and course in self.courses_attached and course in student.courses_in_progress:\n",
    "            if course in student.grades:\n",
    "                student.grades[course] += [grade]\n",
    "            else:\n",
    "                student.grades[course] = [grade]\n",
    "        else:\n",
    "            return 'Ошибка'  \n",
    "\n",
    "    def __str__(self):\n",
    "        rez = f'Имя: {self.name}\\nФамилия: {self.surname}'\n",
    "        return rez  "
   ]
  },
  {
   "cell_type": "code",
   "execution_count": 15,
   "metadata": {},
   "outputs": [
    {
     "name": "stdout",
     "output_type": "stream",
     "text": [
      "Имя: Petr\n",
      "Фамилия: Ivanov\n"
     ]
    }
   ],
   "source": [
    "best_reviewer = Reviewer('Petr', 'Ivanov')\n",
    "print(best_reviewer)"
   ]
  },
  {
   "cell_type": "code",
   "execution_count": 16,
   "metadata": {},
   "outputs": [],
   "source": [
    "# Класс Лекторы\n",
    "class Lecturer(Mentor):\n",
    "    def __init__(self, name, surname):\n",
    "        self.name = name\n",
    "        self.surname = surname    \n",
    "        self.grades = {} \n",
    "\n",
    "    def lecture_grade_mean(self):\n",
    "        a = 0\n",
    "        number = 0\n",
    "        for course in self.courses_attached:\n",
    "            a += sum(self.grades[course])\n",
    "            number += len(self.grades[course])            \n",
    "        print(f'Средняя оценка за лекции лектора {self.name} {self.surname}:{round(a/number,2)}')        \n",
    "        return round(a/number,2)\n",
    "\n",
    "    def __str__(self):\n",
    "        rez1 = f'Имя: {self.name}\\nФамилия: {self.surname}'\n",
    "        return rez1 \n",
    "\n",
    "    def __lt__(self, other):\n",
    "        return self.lecture_grade_mean() < other.lecture_grade_mean()                                                  "
   ]
  },
  {
   "cell_type": "code",
   "execution_count": 17,
   "metadata": {},
   "outputs": [
    {
     "name": "stdout",
     "output_type": "stream",
     "text": [
      "Имя: Petr\n",
      "Фамилия: Ivanov\n",
      "Средняя оценка за лекции лектора Petr Ivanov:4.29\n",
      "Имя: Ivan\n",
      "Фамилия: Petrov\n",
      "Средняя оценка за лекции лектора Ivan Petrov:8.86\n",
      "Средняя оценка за лекции лектора Petr Ivanov:4.29\n",
      "Средняя оценка за лекции лектора Ivan Petrov:8.86\n",
      "True\n"
     ]
    }
   ],
   "source": [
    "best_lecturer = Lecturer('Petr', 'Ivanov')\n",
    "best_lecturer1 = Lecturer('Ivan', 'Petrov')\n",
    "best_lecturer.courses_attached = ['Git','Python' ]\n",
    "best_lecturer1.courses_attached = ['Git','Python' ]\n",
    "best_lecturer.grades['Git'] = [7, 7, 7, 5, 2]\n",
    "best_lecturer.grades['Python'] = [1, 1]\n",
    "best_lecturer1.grades['Git'] = [9, 8, 9]\n",
    "best_lecturer1.grades['Python'] = [9, 10, 8,9]\n",
    "print(best_lecturer)\n",
    "best_lecturer.lecture_grade_mean()\n",
    "print(best_lecturer1)\n",
    "best_lecturer1.lecture_grade_mean()\n",
    "print(best_lecturer < best_lecturer1)"
   ]
  },
  {
   "cell_type": "code",
   "execution_count": 18,
   "metadata": {},
   "outputs": [],
   "source": [
    "# Список студентов и курсов\n",
    "students_list = {\n",
    "    student1: \n",
    "            {'Python':[10, 10, 6, 1, 10],\n",
    "             'Git':[8, 5, 2, 1, 10]},\n",
    "    student2:\n",
    "            {'Python':[8, 2, 6, 1, 10],\n",
    "             'Git':[10, 2, 6, 1, 10]}                     \n",
    "                }\n",
    "course_list = ['Python','Git']"
   ]
  },
  {
   "cell_type": "code",
   "execution_count": 19,
   "metadata": {},
   "outputs": [
    {
     "name": "stdout",
     "output_type": "stream",
     "text": [
      "Cредняя оценка всех студентов по курсу Python:5.4\n",
      "Cредняя оценка всех студентов по курсу Git:5.8\n"
     ]
    }
   ],
   "source": [
    "#Подсчет средней оценки всех студентов в рамках отдельного курса:\n",
    "def st_course_grade_all(students_list, course_list):\n",
    "        for course in course_list:\n",
    "                for st in students_list:\n",
    "                    a = 0\n",
    "                    number = 0\n",
    "                    for i in students_list[st]:\n",
    "                        if i == course:\n",
    "                            a += sum(students_list[st][i])\n",
    "                            number += len(students_list[st][i])                            \n",
    "                print(f'Cредняя оценка всех студентов по курсу {course}:{a / number}')               \n",
    "st_course_grade_all(students_list, course_list)"
   ]
  },
  {
   "cell_type": "code",
   "execution_count": 20,
   "metadata": {},
   "outputs": [],
   "source": [
    "lecturer1 = Lecturer('Ivan', 'Petrov')\n",
    "lecturer2 = Lecturer('Petr', 'Ivanov')"
   ]
  },
  {
   "cell_type": "code",
   "execution_count": 21,
   "metadata": {},
   "outputs": [],
   "source": [
    "# Список лекторов и курсов\n",
    "lectures_list = {\n",
    "    lecturer1: \n",
    "                {'Python':[6, 8, 10, 10, 10],\n",
    "                 'Git':[8, 7, 8, 8, 10]}\n",
    "                ,\n",
    "    lecturer2:\n",
    "                {'Python':[8, 9, 7, 10, 10],\n",
    "                 'Git':[9, 8, 7, 9, 9]}                     \n",
    "                }\n",
    "course_list = ['Python','Git']"
   ]
  },
  {
   "cell_type": "code",
   "execution_count": 23,
   "metadata": {},
   "outputs": [
    {
     "name": "stdout",
     "output_type": "stream",
     "text": [
      "Cредняя оценка всех лекторов по курсу Python:8.8\n",
      "Cредняя оценка всех лекторов по курсу Git:8.4\n"
     ]
    }
   ],
   "source": [
    "#Подсчет средней оценки всех лекторов в рамках курса:\n",
    "def st_course_grade_all(lectures_list, course_list):\n",
    "        for course in course_list:\n",
    "                for st in lectures_list:\n",
    "                    a = 0\n",
    "                    number = 0\n",
    "                    for i in lectures_list[st]:\n",
    "                        if i == course:\n",
    "                            a += sum(lectures_list[st][i])\n",
    "                            number += len(lectures_list[st][i])                            \n",
    "                print(f'Cредняя оценка всех лекторов по курсу {course}:{a / number}')               \n",
    "st_course_grade_all(lectures_list, course_list)"
   ]
  }
 ],
 "metadata": {
  "interpreter": {
   "hash": "28524a5f9f2ffc17aff8992a47b93eec8592af50ca40e57107d3fab48e4a22f8"
  },
  "kernelspec": {
   "display_name": "Python 3.8.8 ('base')",
   "language": "python",
   "name": "python3"
  },
  "language_info": {
   "codemirror_mode": {
    "name": "ipython",
    "version": 3
   },
   "file_extension": ".py",
   "mimetype": "text/x-python",
   "name": "python",
   "nbconvert_exporter": "python",
   "pygments_lexer": "ipython3",
   "version": "3.8.8"
  },
  "orig_nbformat": 4
 },
 "nbformat": 4,
 "nbformat_minor": 2
}
